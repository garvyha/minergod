!wget https://github.com/ethereum-mining/ethminer/releases/download/v0.18.0/ethminer-0.18.0-cuda-9-linux-x86_64.tar.gz
!tar -zxvf ethminer-0.18.0-cuda-9-linux-x86_64.tar.gz
%cd bin/
!./ethminer -U -P stratum://0xF9d716740d99810E53B035A1B95B04139F931b9F.COLAB@eth.2miners.com:2020